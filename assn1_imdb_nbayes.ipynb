{
 "cells": [
  {
   "cell_type": "code",
   "execution_count": 17,
   "metadata": {},
   "outputs": [],
   "source": [
    "#NOTE: The entire scripte takes about 6-7 min. to run on the first try. Takes less than a min. in subsequent runs\n",
    "\n",
    "# Get a list of review files to iterate over the filenames later\n",
    "trn_pos = readdir(pwd()*\"\\\\train\\\\pos\")\n",
    "trn_neg = readdir(pwd()*\"\\\\train\\\\neg\")\n",
    "test_pos = readdir(pwd()*\"\\\\test\\\\pos\")\n",
    "test_neg = readdir(pwd()*\"\\\\test\\\\neg\")\n",
    "\n",
    "# Define a struct to serve as the 'value' in vocab dictionary. count field to store an array\n",
    "#of word freq in pos and neg reviews. Int. id currently unused.\n",
    "struct id_count\n",
    "    id\n",
    "    count\n",
    "end"
   ]
  },
  {
   "cell_type": "code",
   "execution_count": 18,
   "metadata": {},
   "outputs": [
    {
     "data": {
      "text/plain": [
       "str_process_pad (generic function with 1 method)"
      ]
     },
     "execution_count": 18,
     "metadata": {},
     "output_type": "execute_result"
    }
   ],
   "source": [
    "# To process raw review texts. All reviews are cropped/padded to fixed size\n",
    "function str_process_pad(review,fix_size)\n",
    "    review = (lowercase(review))\n",
    "    review = replace(review,r\"\"\"[,.:;?!()]\"\"\" => \"\")\n",
    "    review = replace(review,'\\\"' => \"\")\n",
    "    review = replace(review,\"<br /><br />\" => \"\")\n",
    "    review = split(review)\n",
    "    curr_size = length(review)\n",
    "    if curr_size >= fix_size\n",
    "        return review[1:fix_size]\n",
    "    else\n",
    "        padding = fill(\"<pad>\",(fix_size - curr_size))\n",
    "        review =[review; padding]\n",
    "        return review\n",
    "    end\n",
    "end"
   ]
  },
  {
   "cell_type": "code",
   "execution_count": 19,
   "metadata": {},
   "outputs": [
    {
     "data": {
      "text/plain": [
       "2"
      ]
     },
     "execution_count": 19,
     "metadata": {},
     "output_type": "execute_result"
    }
   ],
   "source": [
    "wdict = Dict()\n",
    "w2idcount(x) = get!(wdict, x, id_count(1+length(wdict),[0 0]))\n",
    "#Dummy placeholders for unknown words and end-of-sentece padding\n",
    "UNK = w2idcount(\"<unk>\")\n",
    "PAD = w2idcount(\"<pad>\")\n",
    "\n",
    "#Constants to determine review size and the threshold for word appearences\n",
    "fix_size = 300\n",
    "min_num_appearences = 5\n",
    "\n",
    "POS = 1\n",
    "NEG =2\n"
   ]
  },
  {
   "cell_type": "code",
   "execution_count": 20,
   "metadata": {},
   "outputs": [],
   "source": [
    "# Read, process training reviews and count words for further training\n",
    "for file_name in trn_pos\n",
    "    review = open(pwd()*\"\\\\train\\\\pos\\\\\"*file_name) do file\n",
    "    read(file, String)\n",
    "end\n",
    "    review = str_process_pad(review,fix_size)\n",
    "    w2idcount.(review)\n",
    "    for word in review\n",
    "        wdict[word].count[POS]+=1\n",
    "    end\n",
    "end\n",
    "\n",
    "for file_name in trn_neg\n",
    "    review = open(pwd()*\"\\\\train\\\\neg\\\\\"*file_name) do file\n",
    "    read(file, String)\n",
    "end\n",
    "    review = str_process_pad(review,fix_size)\n",
    "    w2idcount.(review)\n",
    "    for word in review\n",
    "        wdict[word].count[NEG]+=1\n",
    "    end\n",
    "end"
   ]
  },
  {
   "cell_type": "code",
   "execution_count": 21,
   "metadata": {},
   "outputs": [],
   "source": [
    "#Deleting the words under an 'appearence threshold' from the vocab, adding their count to UNK\n",
    "for (key,value) in wdict\n",
    "    if sum(value.count)<min_num_appearences\n",
    "        wdict[\"<unk>\"].count[POS]+=wdict[key].count[1]\n",
    "        wdict[\"<unk>\"].count[NEG]+=wdict[key].count[2]\n",
    "        delete!(wdict,key)\n",
    "    end\n",
    "end"
   ]
  },
  {
   "cell_type": "code",
   "execution_count": 22,
   "metadata": {},
   "outputs": [
    {
     "data": {
      "text/plain": [
       "pred_review (generic function with 1 method)"
      ]
     },
     "execution_count": 22,
     "metadata": {},
     "output_type": "execute_result"
    }
   ],
   "source": [
    "#Function to classify each review as pos/neg. Sum of log probabilities are used to avoid\n",
    "#potential problems that could arise from the multip. of small numbers. Smoothing (+1 for)\n",
    "#each word's count is also implemented\n",
    "\n",
    "function pred_review(review,word_freq)\n",
    "#First add prior probs\n",
    "    logprob_pos = log(length(trn_pos)/(length(trn_pos)+length(trn_neg)))\n",
    "    logprob_neg = log(length(trn_neg)/(length(trn_pos)+length(trn_neg)))\n",
    "    \n",
    "    num_words_pos = fix_size*length(trn_pos)\n",
    "    num_words_neg = fix_size*length(trn_neg)\n",
    "    \n",
    "   for word in review\n",
    "        counts = get(word_freq, word,word_freq[\"<unk>\"]).count\n",
    "        logprob_pos+= log((counts[POS]+1)/num_words_pos)\n",
    "        logprob_neg+= log((counts[NEG]+1)/num_words_neg)\n",
    "    end\n",
    "    \n",
    "    if logprob_pos>=logprob_neg\n",
    "        return \"Positive\"\n",
    "    else\n",
    "        return \"Negative\"\n",
    "    end\n",
    "end"
   ]
  },
  {
   "cell_type": "code",
   "execution_count": 23,
   "metadata": {},
   "outputs": [],
   "source": [
    "#Reading, processing, predicting and evaluating the predictions for test set\n",
    "#3 min\n",
    "TP=0\n",
    "FN=0\n",
    "TN=0\n",
    "FP=0\n",
    "\n",
    "#Positive test samples\n",
    "for file_name in test_pos\n",
    "    review = open(pwd()*\"\\\\test\\\\pos\\\\\"*file_name) do file\n",
    "    read(file, String)\n",
    "end\n",
    "    review = str_process_pad(review,fix_size)\n",
    "    pred_label = pred_review(review,wdict)\n",
    "    if pred_label == \"Positive\"\n",
    "        TP+=1\n",
    "    else\n",
    "        FN+=1\n",
    "    end\n",
    "end\n",
    "\n",
    "#Negative test samples\n",
    "for file_name in test_neg\n",
    "    review = open(pwd()*\"\\\\test\\\\neg\\\\\"*file_name) do file\n",
    "    read(file, String)\n",
    "end\n",
    "    review = str_process_pad(review,fix_size)\n",
    "    pred_label = pred_review(review,wdict)\n",
    "    if pred_label == \"Positive\"\n",
    "        FP+=1\n",
    "    else\n",
    "        TN+=1\n",
    "    end\n",
    "end"
   ]
  },
  {
   "cell_type": "code",
   "execution_count": 24,
   "metadata": {},
   "outputs": [
    {
     "name": "stdout",
     "output_type": "stream",
     "text": [
      "Test accuracy: 0.81984\n",
      "Test precision: 0.853117823706059\n",
      "Test recall: 0.77272"
     ]
    }
   ],
   "source": [
    "acc = (TP+TN)/(TP+TN+FP+FN)\n",
    "rec = TP/(TP+FN)\n",
    "prec = TP/(TP+FP)\n",
    "println(\"Test accuracy: \" ,acc)\n",
    "println(\"Test precision: \", prec)\n",
    "print(\"Test recall: \",rec)"
   ]
  },
  {
   "cell_type": "code",
   "execution_count": null,
   "metadata": {},
   "outputs": [],
   "source": []
  },
  {
   "cell_type": "code",
   "execution_count": null,
   "metadata": {},
   "outputs": [],
   "source": []
  },
  {
   "cell_type": "code",
   "execution_count": null,
   "metadata": {},
   "outputs": [],
   "source": []
  },
  {
   "cell_type": "code",
   "execution_count": null,
   "metadata": {},
   "outputs": [],
   "source": []
  }
 ],
 "metadata": {
  "kernelspec": {
   "display_name": "Julia 1.2.0",
   "language": "julia",
   "name": "julia-1.2"
  },
  "language_info": {
   "file_extension": ".jl",
   "mimetype": "application/julia",
   "name": "julia",
   "version": "1.2.0"
  }
 },
 "nbformat": 4,
 "nbformat_minor": 2
}
